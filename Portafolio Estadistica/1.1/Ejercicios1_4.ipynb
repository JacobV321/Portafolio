{
  "nbformat": 4,
  "nbformat_minor": 0,
  "metadata": {
    "colab": {
      "provenance": []
    },
    "kernelspec": {
      "name": "python3",
      "display_name": "Python 3"
    },
    "language_info": {
      "name": "python"
    }
  },
  "cells": [
    {
      "cell_type": "markdown",
      "source": [
        "Jacob Valdenegro Monzón A01640992\n",
        "\n",
        "Roberto Ángel Rillo Calva A01642022"
      ],
      "metadata": {
        "id": "fX2ziqOLQebA"
      }
    },
    {
      "cell_type": "code",
      "source": [
        "import sympy as sp\n",
        "import scipy.stats as stats\n",
        "import scipy.optimize as opt"
      ],
      "metadata": {
        "id": "d2xtjVoSP_X_"
      },
      "execution_count": null,
      "outputs": []
    },
    {
      "cell_type": "markdown",
      "source": [
        "1. Una barra de 12 pulg que está sujeta por ambos extremos se somete a una cantidad creciente de esfuerzo hasta que se rompe. Sea Y = la distancia del extremo izquierdo al punto donde ocurre la ruptura. Suponga que Y tiene la función de densidad de probabilidad:"
      ],
      "metadata": {
        "id": "eO7wItA-AW_-"
      }
    },
    {
      "cell_type": "code",
      "execution_count": null,
      "metadata": {
        "colab": {
          "base_uri": "https://localhost:8080/"
        },
        "id": "wH-Pe2J7vU1Q",
        "outputId": "cf853225-0e2d-4a00-e9f8-49756fa73a3e"
      },
      "outputs": [
        {
          "output_type": "stream",
          "name": "stdout",
          "text": [
            "a) \n",
            "La función de distribución acumulativa de Y = y**2*(0.0208333333333333 - 0.00115740740740741*y) \n",
            "\n",
            "b)\n",
            "P(Y ≤ 4) = 0.2592592592592586\n",
            "P(Y > 6) = 0.5000000000000018\n",
            "P(4 ≤ Y ≤ 6) = 0.2407407407407397\n",
            "\n",
            "c)\n",
            "E(Y) = 6.00000000000000\n",
            "E(Y^2) = 43.2000000000000\n",
            "Var(Y) = 7.20000000000002\n",
            "\n",
            "d) La probabilidad de que el punto de ruptura ocurra a más de 2 pulgadas del punto de ruptura esperado es 0.518518518518521\n"
          ]
        }
      ],
      "source": [
        "# a) Definir la función de densidad f(y)\n",
        "# Definir la variable simbólica\n",
        "y = sp.symbols('y')\n",
        "\n",
        "# Definir la función de densidad\n",
        "f_y = (1/24) * y * (1 - y/12)\n",
        "\n",
        "# Calcular la función de distribución acumulativa (CDF) integrando f(y) desde 0 hasta y\n",
        "F_y = sp.integrate(f_y, (y, 0, y))\n",
        "\n",
        "F_y_simplified = sp.simplify(F_y)\n",
        "print(f'a) \\nLa función de distribución acumulativa de Y = {F_y_simplified} \\n')\n",
        "\n",
        "#b)\n",
        "# Definir la función para la CDF\n",
        "F_y_func = sp.lambdify(y, F_y_simplified, \"numpy\")\n",
        "\n",
        "# Calcular las probabilidades usando la CDF simplificada\n",
        "P_Y_leq_4_sympy = F_y_func(4)\n",
        "P_Y_g_6_sympy = 1 - F_y_func(6)\n",
        "P_4_leq_Y_leq_6_sympy = F_y_func(6) - F_y_func(4)\n",
        "\n",
        "print('b)')\n",
        "print(f'P(Y ≤ 4) = {P_Y_leq_4_sympy}')\n",
        "print(f'P(Y > 6) = {P_Y_g_6_sympy}')\n",
        "print(f'P(4 ≤ Y ≤ 6) = {P_4_leq_Y_leq_6_sympy}\\n')\n",
        "\n",
        "#c)\n",
        "# Calcular E(Y) = ∫ y * f(y) dy sobre el dominio de 0 a 12\n",
        "E_Y_sympy = sp.integrate(y * f_y, (y, 0, 12))\n",
        "\n",
        "# Calcular E(Y^2) = ∫ y^2 * f(y) dy sobre el dominio de 0 a 12\n",
        "E_Y2_sympy = sp.integrate(y**2 * f_y, (y, 0, 12))\n",
        "\n",
        "# Calcular la Varianza, Var(Y) = E(Y^2) - [E(Y)]^2\n",
        "Var_Y_sympy = E_Y2_sympy - E_Y_sympy**2\n",
        "\n",
        "print('c)')\n",
        "print(f'E(Y) = {E_Y_sympy}')\n",
        "print(f'E(Y^2) = {E_Y2_sympy}')\n",
        "print(f'Var(Y) = {Var_Y_sympy}\\n')\n",
        "\n",
        "#d)\n",
        "# Calcular la probabilidad de que el punto de ruptura ocurra a más de 2 pulgadas del punto de ruptura esperado\n",
        "expected_y = E_Y_sympy\n",
        "P_more_than_2_sympy = F_y_func(expected_y - 2) + (1 - F_y_func(expected_y + 2))\n",
        "\n",
        "print(f'd) La probabilidad de que el punto de ruptura ocurra a más de 2 pulgadas del punto de ruptura esperado es {P_more_than_2_sympy}')"
      ]
    },
    {
      "cell_type": "markdown",
      "source": [
        "2. Sea X la temperatura, en grados centígrados, a la cual ocurre una reacción química.  Suponga que X tiene una función de densidad de probabilidad:"
      ],
      "metadata": {
        "id": "9D6n7tSuEdqQ"
      }
    },
    {
      "cell_type": "code",
      "source": [
        "# Definimos la variable y la función de densidad\n",
        "x = sp.symbols('x')\n",
        "f_x = (1/9) * (4 - x**2)\n",
        "\n",
        "# Parte a: Corroborar que la función es una distribución válida\n",
        "# Integramos la función de densidad sobre su dominio [-1, 2]\n",
        "integral_f = sp.integrate(f_x, (x, -1, 2))\n",
        "print(f'a)\\nLa funcion es valida porque la integral de f(x) sobre su dominio es {integral_f}\\n')\n",
        "\n",
        "# Parte b: Determinar la función de distribución acumulativa (CDF)\n",
        "F_x = sp.integrate(f_x, (x, -1, x))\n",
        "F_x_simplified = sp.simplify(F_x)\n",
        "\n",
        "print(f'b)\\nLa funcion de distribucion acumulada es {F_x_simplified}\\n')\n",
        "\n",
        "# Parte c: Calcular E(Y), E(Y^2) y Var(Y)\n",
        "# E(Y)\n",
        "E_Y = sp.integrate(x * f_x, (x, -1, 2))\n",
        "\n",
        "# E(Y^2)\n",
        "E_Y2 = sp.integrate(x**2 * f_x, (x, -1, 2))\n",
        "\n",
        "# Var(Y) = E(Y^2) - E(Y)^2\n",
        "Var_Y = E_Y2 - E_Y**2\n",
        "\n",
        "print(f'c)\\nE(Y) = {E_Y}\\nE(Y^2) = {E_Y2}\\nVar(Y) = {Var_Y}\\n')\n",
        "\n",
        "# Parte d: Probabilidad de que la temperatura sea menor a 0°C\n",
        "prob_menor_0 = F_x_simplified.subs(x, 0)\n",
        "\n",
        "print(f'd)\\nLa probabilidad de que la temperatura sea menor a 0°C es {prob_menor_0}\\n')\n",
        "\n",
        "\n",
        "# Parte e: Probabilidad de que la temperatura sea entre 4°C y 6°C\n",
        "# Como el dominio de x está restringido a [-1, 2], la probabilidad P(4 < X < 6) será 0.\n",
        "\n",
        "prob_4_6 = 0\n",
        "\n",
        "print(f'e)\\nLa probabilidad de que la temperatura sea entre 4°C y 6°C es {prob_4_6} ya que el dominio de x está restringido a [-1, 2]')"
      ],
      "metadata": {
        "colab": {
          "base_uri": "https://localhost:8080/"
        },
        "id": "Q9ifCcmqEe-E",
        "outputId": "09f5dbb9-3c13-4460-a9f9-e6854801bd58"
      },
      "execution_count": null,
      "outputs": [
        {
          "output_type": "stream",
          "name": "stdout",
          "text": [
            "a)\n",
            "La funcion es valida porque la integral de f(x) sobre su dominio es 1.00000000000000\n",
            "\n",
            "b)\n",
            "La funcion de distribucion acumulada es -0.037037037037037*x**3 + 0.444444444444444*x + 0.407407407407407\n",
            "\n",
            "c)\n",
            "E(Y) = 0.250000000000000\n",
            "E(Y^2) = 0.600000000000000\n",
            "Var(Y) = 0.537500000000000\n",
            "\n",
            "d)\n",
            "La probabilidad de que la temperatura sea menor a 0°C es 0.407407407407407\n",
            "\n",
            "e)\n",
            "La probabilidad de que la temperatura sea entre 4°C y 6°C es 0 ya que el dominio de x está restringido a [-1, 2]\n"
          ]
        }
      ]
    },
    {
      "cell_type": "markdown",
      "source": [
        "3. El artículo “Computer Assisted Net Weight Control” (Quality Progress, 1983: 22-25) sugiere una distribución normal con media de 137.2 oz y una desviación estándar de 1.6 oz del contenido real de frascos de cierto tipo. El contenido declarado fue de 135 oz."
      ],
      "metadata": {
        "id": "qfCHNWqZHwpl"
      }
    },
    {
      "cell_type": "code",
      "source": [
        "# Parámetros dados\n",
        "media = 137.2\n",
        "desviacion_estandar = 1.6\n",
        "contenido_declarado = 135\n",
        "\n",
        "# a. Probabilidad de que un solo frasco contenga más que el contenido declarado\n",
        "prob_mas_que_declarado = 1 - stats.norm.cdf(contenido_declarado, loc=media, scale=desviacion_estandar)\n",
        "\n",
        "print(f'a) La probabilidad de que un solo frasco contenga más que el contenido declarado es {prob_mas_que_declarado}')\n",
        "\n",
        "# b. Desviación estándar necesaria para que el 95% de los frascos contengan más que el contenido declarado\n",
        "# Queremos que P(X > 135) = 0.95\n",
        "def equation_to_solve(sigma):\n",
        "    return stats.norm.cdf(contenido_declarado, loc=media, scale=sigma) - 0.05\n",
        "\n",
        "nueva_desviacion_estandar = opt.fsolve(equation_to_solve, desviacion_estandar)[0]\n",
        "\n",
        "print(f'b) La nueva desviación estándar necesaria es {nueva_desviacion_estandar}')\n",
        "\n",
        "# c. Probabilidad de que al menos 8 de 10 frascos contengan más que el contenido declarado\n",
        "n = 10\n",
        "k = 8\n",
        "p_mas_que_declarado = prob_mas_que_declarado\n",
        "\n",
        "# Usamos la distribución binomial para calcular esta probabilidad\n",
        "prob_al_menos_8 = sum(stats.binom.pmf(range(k, n+1), n, p_mas_que_declarado))\n",
        "\n",
        "print(f'c) La probabilidad de que al menos 8 de 10 frascos contengan más que el contenido declarado es {prob_al_menos_8}')"
      ],
      "metadata": {
        "colab": {
          "base_uri": "https://localhost:8080/"
        },
        "id": "GVCv6ppcHyIN",
        "outputId": "fde6f799-a3c7-4d72-f58f-fb81edb49e87"
      },
      "execution_count": null,
      "outputs": [
        {
          "output_type": "stream",
          "name": "stdout",
          "text": [
            "a) La probabilidad de que un solo frasco contenga más que el contenido declarado es 0.9154342776486631\n",
            "b) La nueva desviación estándar necesaria es 1.3375050302058848\n",
            "c) La probabilidad de que al menos 8 de 10 frascos contengan más que el contenido declarado es 0.9538238329543585\n"
          ]
        }
      ]
    },
    {
      "cell_type": "markdown",
      "source": [
        "4. El artículo “Characterization of Room Temperature Damping in Aluminum-Idium Alloys” (Metallurgical Trans., 1993: 1611-1619) sugiere que el tamaño de grano de matriz A1 (μm) de una aleación compuesta de 2% de indio podría ser modelado con una distribución normal con valor medio de 96 y desviación estándar de 14."
      ],
      "metadata": {
        "id": "IE9_tk03JGrx"
      }
    },
    {
      "cell_type": "code",
      "source": [
        "# Parámetros dados\n",
        "media = 96\n",
        "desviacion_estandar = 14\n",
        "\n",
        "# a. Probabilidad de que el tamaño de grano exceda de 100\n",
        "prob_excede_100 = 1 - stats.norm.cdf(100, loc=media, scale=desviacion_estandar)\n",
        "\n",
        "print(f'a) La probabilidad de que el tamaño de grano exceda de 100 es {prob_excede_100}')\n",
        "\n",
        "# b. Probabilidad de que el tamaño de grano esté entre 50 y 80\n",
        "prob_50_80 = stats.norm.cdf(80, loc=media, scale=desviacion_estandar) - stats.norm.cdf(50, loc=media, scale=desviacion_estandar)\n",
        "\n",
        "print(f'b) La probabilidad de que el tamaño de grano esté entre 50 y 80 es {prob_50_80}')\n",
        "\n",
        "# c. Intervalo (a, b) que incluye el 90% central de todos los tamaños de grano 5% por debajo de a y 5% por encima de b\n",
        "a = stats.norm.ppf(0.05, loc=media, scale=desviacion_estandar)\n",
        "b = stats.norm.ppf(0.95, loc=media, scale=desviacion_estandar)\n",
        "\n",
        "print(f'c) El intervalo (a, b) que incluye el 90% central de todos los tamaños de grano es ({a}, {b})')\n"
      ],
      "metadata": {
        "colab": {
          "base_uri": "https://localhost:8080/"
        },
        "id": "0W_-hZoyJAoh",
        "outputId": "ad4bf03e-18e3-4e4c-bb41-c62be46aa6db"
      },
      "execution_count": null,
      "outputs": [
        {
          "output_type": "stream",
          "name": "stdout",
          "text": [
            "a) La probabilidad de que el tamaño de grano exceda de 100 es 0.38754848109799234\n",
            "b) La probabilidad de que el tamaño de grano esté entre 50 y 80 es 0.1260403337983934\n",
            "c) El intervalo (a, b) que incluye el 90% central de todos los tamaños de grano es (72.97204922267937, 119.02795077732061)\n"
          ]
        }
      ]
    }
  ]
}