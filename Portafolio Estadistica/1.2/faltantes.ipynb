{
  "nbformat": 4,
  "nbformat_minor": 0,
  "metadata": {
    "colab": {
      "provenance": []
    },
    "kernelspec": {
      "name": "python3",
      "display_name": "Python 3"
    },
    "language_info": {
      "name": "python"
    }
  },
  "cells": [
    {
      "cell_type": "code",
      "execution_count": 10,
      "metadata": {
        "colab": {
          "base_uri": "https://localhost:8080/"
        },
        "id": "MwCfe8Z2KqFv",
        "outputId": "038a4823-8d91-472b-9fab-23a715916452"
      },
      "outputs": [
        {
          "output_type": "stream",
          "name": "stdout",
          "text": [
            "    school sex  age address famsize Pstatus  Medu  Fedu      Mjob      Fjob  \\\n",
            "390     MS   M   20       U     LE3       A     2   NaN  services  services   \n",
            "391     MS   M   17       U     LE3       T     3   1.0  services  services   \n",
            "392     MS   M   21       R     GT3       T     1   1.0     other     other   \n",
            "393     MS   M   18       R     LE3       T     3   2.0  services     other   \n",
            "394     MS   M   19       U     LE3       T     1   NaN     other       NaN   \n",
            "\n",
            "     ... famrel freetime  goout  Dalc  Walc health absences  G1  G2  G3  \n",
            "390  ...      5        5      4   4.0     5      4      NaN   9   9   9  \n",
            "391  ...      2        4      5   3.0     4      2      3.0  14  16  16  \n",
            "392  ...      5        5      3   3.0     3      3      NaN  10   8   7  \n",
            "393  ...      4        4      1   3.0     4      5      0.0  11  12  10  \n",
            "394  ...      3        2      3   3.0     3      5      5.0   8   9   9  \n",
            "\n",
            "[5 rows x 33 columns]\n"
          ]
        }
      ],
      "source": [
        "import numpy as np\n",
        "import pandas as pd\n",
        "import matplotlib.pyplot as plt\n",
        "import seaborn as sns\n",
        "\n",
        "# Carga del archivo CSV\n",
        "datos = pd.read_csv('/content/sample_data/student-mat_v3.csv')\n",
        "\n",
        "\n",
        "# Ver las primeras filas para explorar los datos\n",
        "print(datos.tail())"
      ]
    },
    {
      "cell_type": "code",
      "source": [
        "absences = datos['absences']\n",
        "traveltime = datos['traveltime']\n",
        "asbencesdatos = len(absences)\n",
        "print(asbencesdatos)\n",
        "traveltimedatos = len(traveltime)\n",
        "print(traveltimedatos)"
      ],
      "metadata": {
        "colab": {
          "base_uri": "https://localhost:8080/"
        },
        "id": "ANeeOmcZK0AX",
        "outputId": "02c58cc0-9aad-4436-e77e-e3df2489f413"
      },
      "execution_count": 15,
      "outputs": [
        {
          "output_type": "stream",
          "name": "stdout",
          "text": [
            "395\n",
            "395\n"
          ]
        }
      ]
    },
    {
      "cell_type": "code",
      "source": [
        "def contar_nulos_columna(df, columna):\n",
        "  nulos = df[columna].isnull().sum()\n",
        "  return nulos\n",
        "\n",
        "columna = 'absences'\n",
        "nulos = contar_nulos_columna(datos, columna)\n",
        "porcentaje_nulos = (nulos / len(datos)) * 100\n",
        "print(f\"Cantidad de valores nulos en '{columna}': {nulos}\")\n",
        "print(f\"El porcentaje de nulos es del '{porcentaje_nulos}'\")"
      ],
      "metadata": {
        "colab": {
          "base_uri": "https://localhost:8080/"
        },
        "id": "Aak_PflqLTZB",
        "outputId": "44232141-82e0-4f71-e311-ae8db64afdc7"
      },
      "execution_count": null,
      "outputs": [
        {
          "output_type": "stream",
          "name": "stdout",
          "text": [
            "Cantidad de valores nulos en 'absences': 21\n",
            "El porcentaje de nulos es del '5.3164556962025316'\n"
          ]
        }
      ]
    },
    {
      "cell_type": "code",
      "source": [
        "def contar_nulos_columna(df, columna):\n",
        "  nulos = df[columna].isnull().sum()\n",
        "  return nulos\n",
        "\n",
        "columna = 'traveltime'  # Especifica el nombre de la columna\n",
        "nulos = contar_nulos_columna(datos, columna)\n",
        "porcentaje_nulos = (nulos / (traveltimedatos)) * 100\n",
        "print(f\"Cantidad de valores nulos en '{columna}': {nulos}\")\n",
        "print(f\"El porcentaje de nulos es del '{porcentaje_nulos}'\")"
      ],
      "metadata": {
        "colab": {
          "base_uri": "https://localhost:8080/"
        },
        "id": "HKOC_GMuNFpP",
        "outputId": "24ade184-ab3e-4884-a4df-2f9a897f5ba4"
      },
      "execution_count": null,
      "outputs": [
        {
          "output_type": "stream",
          "name": "stdout",
          "text": [
            "Cantidad de valores nulos en 'traveltime': 26\n",
            "El porcentaje de nulos es del '6.582278481012659'\n"
          ]
        }
      ]
    },
    {
      "cell_type": "code",
      "source": [
        "def imputar_mediana(datos, columna):\n",
        "\n",
        "    mediana = datos[columna].median()\n",
        "\n",
        "    # Imputar los valores nulos con la mediana\n",
        "    datos[columna].fillna(mediana, inplace=True)\n",
        "\n",
        "    return datos"
      ],
      "metadata": {
        "id": "sguH0IZgQekF"
      },
      "execution_count": 11,
      "outputs": []
    },
    {
      "cell_type": "code",
      "source": [
        "datos = imputar_mediana(datos, 'absences')\n",
        "absences = datos['absences']\n",
        "print(absences)"
      ],
      "metadata": {
        "colab": {
          "base_uri": "https://localhost:8080/"
        },
        "id": "pUsKLwHjjGf0",
        "outputId": "14e9bbf8-8a8d-483e-89fd-34c777f30492"
      },
      "execution_count": 18,
      "outputs": [
        {
          "output_type": "stream",
          "name": "stdout",
          "text": [
            "0      6.0\n",
            "1      4.0\n",
            "2      3.5\n",
            "3      2.0\n",
            "4      4.0\n",
            "      ... \n",
            "390    3.5\n",
            "391    3.0\n",
            "392    3.5\n",
            "393    0.0\n",
            "394    5.0\n",
            "Name: absences, Length: 395, dtype: float64\n"
          ]
        }
      ]
    },
    {
      "cell_type": "code",
      "source": [
        "plt.figure(figsize=(8, 6))\n",
        "plt.boxplot(datos['absences'])\n",
        "\n",
        "plt.title('Boxplot of Absences')\n",
        "plt.ylabel('Number of Absences')\n",
        "\n",
        "plt.show()"
      ],
      "metadata": {
        "colab": {
          "base_uri": "https://localhost:8080/",
          "height": 545
        },
        "id": "1iTWqXsZkKi8",
        "outputId": "0666dbe1-9dc6-4c4d-d668-dc783e111416"
      },
      "execution_count": 20,
      "outputs": [
        {
          "output_type": "display_data",
          "data": {
            "text/plain": [
              "<Figure size 800x600 with 1 Axes>"
            ],
            "image/png": "[encoded data removed]"
          },
          "metadata": {}
        }
      ]
    },
    {
      "cell_type": "code",
      "source": [
        "datos = imputar_mediana(datos, 'traveltime')\n",
        "traveltime = datos['traveltime']\n",
        "print(traveltime)"
      ],
      "metadata": {
        "colab": {
          "base_uri": "https://localhost:8080/"
        },
        "id": "L_ieVtwjjaIR",
        "outputId": "f370f56e-05c1-42f9-af20-4ba6ca43df0a"
      },
      "execution_count": 19,
      "outputs": [
        {
          "output_type": "stream",
          "name": "stdout",
          "text": [
            "0      2.0\n",
            "1      1.0\n",
            "2      1.0\n",
            "3      1.0\n",
            "4      1.0\n",
            "      ... \n",
            "390    1.0\n",
            "391    2.0\n",
            "392    1.0\n",
            "393    3.0\n",
            "394    1.0\n",
            "Name: traveltime, Length: 395, dtype: float64\n"
          ]
        }
      ]
    },
    {
      "cell_type": "code",
      "source": [
        "# Crear un boxplot para la columna 'absences'\n",
        "plt.figure(figsize=(8, 6))\n",
        "plt.boxplot(datos['traveltime'])\n",
        "\n",
        "# Personalizar el gráfico\n",
        "plt.title('Boxplot of traveltime')\n",
        "plt.ylabel('Number of traveltime')\n",
        "\n",
        "# Mostrar el gráfico\n",
        "plt.show()"
      ],
      "metadata": {
        "colab": {
          "base_uri": "https://localhost:8080/",
          "height": 545
        },
        "id": "d-389IJWjycm",
        "outputId": "61d3db3f-0730-4460-df25-5c40df00f88b"
      },
      "execution_count": 21,
      "outputs": [
        {
          "output_type": "display_data",
          "data": {
            "text/plain": [
              "<Figure size 800x600 with 1 Axes>"
            ],
            "image/png": "[encoded data removed]"
          },
          "metadata": {}
        }
      ]
    }
  ]
}